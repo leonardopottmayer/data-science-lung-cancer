{
 "cells": [
  {
   "cell_type": "markdown",
   "id": "56a6e7db",
   "metadata": {},
   "source": [
    "## 3. Surviving logistic regression."
   ]
  },
  {
   "cell_type": "code",
   "execution_count": 49,
   "id": "a46ec8ba",
   "metadata": {},
   "outputs": [],
   "source": [
    "from sklearn.datasets import load_breast_cancer\n",
    "from sklearn.model_selection import train_test_split\n",
    "from sklearn.linear_model import LogisticRegression\n",
    "from sklearn.metrics import accuracy_score, confusion_matrix, classification_report, ConfusionMatrixDisplay, roc_curve, roc_auc_score\n",
    "from imblearn.over_sampling import SMOTE\n",
    "import matplotlib.pyplot as plt\n",
    "import seaborn as sns\n",
    "import pandas as pd\n",
    "import numpy as np"
   ]
  },
  {
   "cell_type": "code",
   "execution_count": 50,
   "id": "cf82502c",
   "metadata": {},
   "outputs": [],
   "source": [
    "should_apply_smote = True"
   ]
  },
  {
   "cell_type": "code",
   "execution_count": 51,
   "id": "f242060b",
   "metadata": {},
   "outputs": [],
   "source": [
    "dataset_path = '../data/dataset.csv'\n",
    "df = pd.read_csv(dataset_path)"
   ]
  },
  {
   "cell_type": "code",
   "execution_count": 52,
   "id": "b3012a5b",
   "metadata": {},
   "outputs": [
    {
     "name": "stdout",
     "output_type": "stream",
     "text": [
      "Accuracy: 0.654407561995975\n",
      "Confusion Matrix:\n",
      " [[133165  74763]\n",
      " [ 69141 139329]]\n",
      "Classification Report:\n",
      "               precision    recall  f1-score   support\n",
      "\n",
      "           0       0.66      0.64      0.65    207928\n",
      "           1       0.65      0.67      0.66    208470\n",
      "\n",
      "    accuracy                           0.65    416398\n",
      "   macro avg       0.65      0.65      0.65    416398\n",
      "weighted avg       0.65      0.65      0.65    416398\n",
      "\n"
     ]
    }
   ],
   "source": [
    "# Remove irrelevant or non-numeric columns.\n",
    "df = df.drop(columns=[\n",
    "    'id',\n",
    "    'diagnosis_date',\n",
    "    'end_treatment_date',\n",
    "    'country'\n",
    "])\n",
    "\n",
    "# Convert categorical columns to dummy/one-hot encoding.\n",
    "X = df.drop(columns='survived')\n",
    "X = pd.get_dummies(X, drop_first=True)\n",
    "\n",
    "# Target.\n",
    "y = df['survived']\n",
    "\n",
    "# Apply SMOTE to balance the dataset.\n",
    "if should_apply_smote:\n",
    "    smote = SMOTE(random_state=42)\n",
    "    X, y = smote.fit_resample(X, y)\n",
    "\n",
    "# Split into training and test sets.\n",
    "X_train, X_test, y_train, y_test = train_test_split(\n",
    "    X, y, test_size=0.3, random_state=42\n",
    ")\n",
    "\n",
    "# Create and train the model.\n",
    "model = LogisticRegression(max_iter=100000)\n",
    "model.fit(X_train, y_train)\n",
    "\n",
    "# Predict.\n",
    "y_pred = model.predict(X_test)\n",
    "\n",
    "# Evaluate.\n",
    "print(\"Accuracy:\", accuracy_score(y_test, y_pred))\n",
    "print(\"Confusion Matrix:\\n\", confusion_matrix(y_test, y_pred))\n",
    "print(\"Classification Report:\\n\", classification_report(y_test, y_pred))"
   ]
  },
  {
   "cell_type": "code",
   "execution_count": 53,
   "id": "8e9ffc70",
   "metadata": {},
   "outputs": [
    {
     "data": {
      "image/png": "[encoded data removed]",
      "text/plain": [
       "<Figure size 600x400 with 1 Axes>"
      ]
     },
     "metadata": {},
     "output_type": "display_data"
    }
   ],
   "source": [
    "cm = confusion_matrix(y_test, y_pred)\n",
    "plt.figure(figsize=(6, 4))\n",
    "sns.heatmap(cm, annot=True, fmt='d', cmap='Blues', cbar=False)\n",
    "plt.xlabel(\"Predicted\")\n",
    "plt.ylabel(\"Actual\")\n",
    "plt.title(\"Confusion Matrix\")\n",
    "plt.show()"
   ]
  }
 ],
 "metadata": {
  "kernelspec": {
   "display_name": ".venv",
   "language": "python",
   "name": "python3"
  },
  "language_info": {
   "codemirror_mode": {
    "name": "ipython",
    "version": 3
   },
   "file_extension": ".py",
   "mimetype": "text/x-python",
   "name": "python",
   "nbconvert_exporter": "python",
   "pygments_lexer": "ipython3",
   "version": "3.11.5"
  }
 },
 "nbformat": 4,
 "nbformat_minor": 5
}
